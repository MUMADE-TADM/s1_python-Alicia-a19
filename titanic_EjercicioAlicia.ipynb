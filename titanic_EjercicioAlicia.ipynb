{
  "cells": [
    {
      "cell_type": "markdown",
      "metadata": {
        "id": "view-in-github",
        "colab_type": "text"
      },
      "source": [
        "<a href=\"https://colab.research.google.com/github/MUMADE-TADM/s1_python-Alicia-a19/blob/main/titanic_EjercicioAlicia.ipynb\" target=\"_parent\"><img src=\"https://colab.research.google.com/assets/colab-badge.svg\" alt=\"Open In Colab\"/></a>"
      ]
    },
    {
      "cell_type": "markdown",
      "metadata": {
        "id": "SokvQ-3OsEL4"
      },
      "source": [
        "# ¿Que influyó en las muertes de pasajeros del Titanic?\n",
        " ¿La clase de pasaje? ¿La edad? ¿El costo del pasaje?"
      ]
    },
    {
      "cell_type": "markdown",
      "metadata": {
        "id": "l3A2XWchso3t"
      },
      "source": [
        "# Copie este notebook en su cuenta junto con los datos **titanic.csv** \n",
        "moodle de clase"
      ]
    },
    {
      "cell_type": "code",
      "execution_count": null,
      "metadata": {
        "id": "K_-zn1zBFvAq"
      },
      "outputs": [],
      "source": [
        "%cd \\Users\\alici\\Desktop\\Universidad\\TECNOLOGÍAS PARA EL ANÁLISIS DE DATOS MASIVOS\\Sesión 5"
      ]
    },
    {
      "cell_type": "code",
      "source": [
        "from google.colab import files \n",
        "  \n",
        "  \n",
        "uploaded = files.upload()"
      ],
      "metadata": {
        "id": "YwcmNynNF0l-"
      },
      "execution_count": null,
      "outputs": []
    },
    {
      "cell_type": "markdown",
      "metadata": {
        "id": "l-er_x1ytSqz"
      },
      "source": [
        "## Utilice estas librerías"
      ]
    },
    {
      "cell_type": "code",
      "execution_count": null,
      "metadata": {
        "id": "CQdOcbm1_AHX"
      },
      "outputs": [],
      "source": [
        "import pandas as pd\n",
        "import numpy as np\n",
        "from sklearn import tree\n",
        "from sklearn.tree import DecisionTreeClassifier\n",
        "from sklearn.tree import export_text\n",
        "import graphviz"
      ]
    },
    {
      "cell_type": "markdown",
      "metadata": {
        "id": "MJdFs5hZtjnT"
      },
      "source": [
        "## Lea el fichero de datos en un DataFrame de pandas **datos**"
      ]
    },
    {
      "cell_type": "code",
      "execution_count": null,
      "metadata": {
        "id": "eGY2VZzOATsD"
      },
      "outputs": [],
      "source": [
        "datos = pd.read_csv('titanic.csv')\n",
        "datos.head()"
      ]
    },
    {
      "cell_type": "code",
      "execution_count": null,
      "metadata": {
        "id": "WfIUHNYKFvA9"
      },
      "outputs": [],
      "source": [
        "datos.shape"
      ]
    },
    {
      "cell_type": "markdown",
      "metadata": {
        "id": "2E65IGRGtzWQ"
      },
      "source": [
        "## Investigue si hay datos erróneos o vacios con valor **Nan** y elimínelos"
      ]
    },
    {
      "cell_type": "code",
      "execution_count": null,
      "metadata": {
        "scrolled": true,
        "id": "KjXcE2IxFvBB"
      },
      "outputs": [],
      "source": [
        "datos.isnull()"
      ]
    },
    {
      "cell_type": "code",
      "execution_count": null,
      "metadata": {
        "id": "8pAt9bxJFvBH"
      },
      "outputs": [],
      "source": [
        "datos.isnull().sum()"
      ]
    },
    {
      "cell_type": "code",
      "execution_count": null,
      "metadata": {
        "id": "1m19jg1yFvBI"
      },
      "outputs": [],
      "source": [
        "datos.isnull().sum().sum()"
      ]
    },
    {
      "cell_type": "code",
      "execution_count": null,
      "metadata": {
        "id": "OcdXPDz7FvBJ"
      },
      "outputs": [],
      "source": [
        "datos.dropna(how = 'any')"
      ]
    },
    {
      "cell_type": "code",
      "execution_count": null,
      "metadata": {
        "id": "ZHNqhdb2AiKk"
      },
      "outputs": [],
      "source": [
        "datos = datos.dropna()"
      ]
    },
    {
      "cell_type": "code",
      "execution_count": null,
      "metadata": {
        "id": "8UXmaCxvFvBK"
      },
      "outputs": [],
      "source": [
        "datos.shape"
      ]
    },
    {
      "cell_type": "markdown",
      "metadata": {
        "id": "Sd_BVB7DuGK0"
      },
      "source": [
        "## Con los datos límpios cree el conjunto de datos de entrenamiento\n",
        "- **X** con las columnas 'Pclass','Age' y 'Fare'\n",
        "- **y** con la columna 'Survived'"
      ]
    },
    {
      "cell_type": "code",
      "source": [
        "X = datos[['Survived', 'Pclass', 'Age', 'Fare']].dropna()"
      ],
      "metadata": {
        "id": "binxfvp3IekZ"
      },
      "execution_count": null,
      "outputs": []
    },
    {
      "cell_type": "code",
      "source": [
        "X"
      ],
      "metadata": {
        "id": "5Pb1opPKIrpE"
      },
      "execution_count": null,
      "outputs": []
    },
    {
      "cell_type": "markdown",
      "source": [
        "Un data frame de una sola columna se considera una serie"
      ],
      "metadata": {
        "id": "PJHK7KVfJANU"
      }
    },
    {
      "cell_type": "code",
      "source": [
        "y = X['Survived']\n",
        "X = X.drop(['Survived'], axis = 1)"
      ],
      "metadata": {
        "id": "E8oNdQiJIzn5"
      },
      "execution_count": null,
      "outputs": []
    },
    {
      "cell_type": "code",
      "execution_count": null,
      "metadata": {
        "id": "Ewxg7ZeJFvBL"
      },
      "outputs": [],
      "source": [
        "datos.loc[:, 'Survived']"
      ]
    },
    {
      "cell_type": "code",
      "execution_count": null,
      "metadata": {
        "id": "9xUg1CE-FvBM"
      },
      "outputs": [],
      "source": [
        "datos.loc[:, ['Pclass', 'Age', 'Fare']]"
      ]
    },
    {
      "cell_type": "code",
      "execution_count": null,
      "metadata": {
        "id": "_6s3KsPRu3_M"
      },
      "outputs": [],
      "source": [
        "y = datos.loc[:, 'Survived']\n",
        "X = datos.loc[:, ['Pclass', 'Age', 'Fare']]"
      ]
    },
    {
      "cell_type": "code",
      "execution_count": null,
      "metadata": {
        "id": "cAqLkruFFvBN"
      },
      "outputs": [],
      "source": [
        "y.head()"
      ]
    },
    {
      "cell_type": "code",
      "execution_count": null,
      "metadata": {
        "id": "VsmMBhHwFvBN"
      },
      "outputs": [],
      "source": [
        "X.head()"
      ]
    },
    {
      "cell_type": "markdown",
      "metadata": {
        "id": "Gkl7D6ALvM2U"
      },
      "source": [
        "## Cree el árbol de clasificación **Ad**"
      ]
    },
    {
      "cell_type": "code",
      "source": [
        "Ad = tree.DecisionTreeClassifier(criterion = 'gini', max_depth = 5)\n",
        "Ad = Ad.fit(X, y)"
      ],
      "metadata": {
        "id": "A1OK3wnsJL-y"
      },
      "execution_count": null,
      "outputs": []
    },
    {
      "cell_type": "markdown",
      "source": [
        "Criterio de decisión  \n",
        "Profundidad"
      ],
      "metadata": {
        "id": "1NACrHyGJdVB"
      }
    },
    {
      "cell_type": "code",
      "execution_count": null,
      "metadata": {
        "id": "gqPAB36GBAAU"
      },
      "outputs": [],
      "source": [
        "Ad = tree.DecisionTreeClassifier(random_state=0, max_depth=3)\n",
        "Ad = Ad.fit(X, y)"
      ]
    },
    {
      "cell_type": "markdown",
      "metadata": {
        "id": "LSstHtxyvwiU"
      },
      "source": [
        "## Muestre árbol obtenido en forma de texto."
      ]
    },
    {
      "cell_type": "code",
      "source": [
        "r = export_text(Ad, feature_names = list(X.columns))\n",
        "print(r)"
      ],
      "metadata": {
        "id": "hJLxr2jXJwrw"
      },
      "execution_count": null,
      "outputs": []
    },
    {
      "cell_type": "code",
      "source": [
        "tree_rules = export_text(Ad, feature_names = list(X))\n",
        "print(tree_rules)"
      ],
      "metadata": {
        "id": "8JuqHGPxGQfT"
      },
      "execution_count": null,
      "outputs": []
    },
    {
      "cell_type": "markdown",
      "metadata": {
        "id": "ALl23aaTvgm3"
      },
      "source": [
        "## Exporte el árbol obtenido a un fichero **titanic.pdf**\n",
        "Utilize la libreria graphviz"
      ]
    },
    {
      "cell_type": "code",
      "execution_count": null,
      "metadata": {
        "id": "SfcKqf_CwrSp"
      },
      "outputs": [],
      "source": [
        "r = tree.plot_tree(Ad)\n",
        "print(r)"
      ]
    },
    {
      "cell_type": "code",
      "execution_count": null,
      "metadata": {
        "id": "X4R3dhP2FvBR"
      },
      "outputs": [],
      "source": [
        "pip install graphviz"
      ]
    },
    {
      "cell_type": "code",
      "execution_count": null,
      "metadata": {
        "id": "lbgWkRWT0sY6"
      },
      "outputs": [],
      "source": [
        "dot_data = tree.export_graphviz(Ad, out_file = None)\n",
        "graph = graphviz.Source(dot_data)\n",
        "graph.render(\"Titanic\")"
      ]
    },
    {
      "cell_type": "markdown",
      "source": [
        "dot.data: árbol en gráfico\n"
      ],
      "metadata": {
        "id": "iEMjCSOFK5mY"
      }
    },
    {
      "cell_type": "markdown",
      "metadata": {
        "id": "_JZCZYsIwAlP"
      },
      "source": [
        "## Muestre de forma enriquecida el árbol obtenido\n",
        "Utilize la libreria graphviz"
      ]
    },
    {
      "cell_type": "code",
      "source": [
        "X.columns"
      ],
      "metadata": {
        "id": "5kAYvpTtH0lL"
      },
      "execution_count": null,
      "outputs": []
    },
    {
      "cell_type": "code",
      "source": [
        "dot_data = tree.export_graphviz(Ad, out_file = None,\n",
        "                                feature_names=X.columns,\n",
        "                                class_names=['0','1'],\n",
        "                                filled = True,\n",
        "                                rounded = True,\n",
        "                                special_characters=True)\n",
        "graph = graphviz.Source(dot_data)\n",
        "graph"
      ],
      "metadata": {
        "id": "3O3obnwhNR25"
      },
      "execution_count": null,
      "outputs": []
    },
    {
      "cell_type": "code",
      "source": [
        "dot_data = tree.export_graphviz(Ad, out_file = None,\n",
        "                                features_names = X.columns,\n",
        "                                class_names = ['0', '1'],  \n",
        "                     filled = True, rounded =True,  \n",
        "                     special_characters = True)  \n",
        "graph = graphviz.Source(dot_data)\n",
        "graph"
      ],
      "metadata": {
        "id": "1SVmCvMvJDPv"
      },
      "execution_count": null,
      "outputs": []
    },
    {
      "cell_type": "markdown",
      "metadata": {
        "id": "YNShCpe2xv3Y"
      },
      "source": [
        "## ¿Que característas son las más influyentes o decisivas?"
      ]
    },
    {
      "cell_type": "code",
      "source": [
        "l = list(zip(list(X.columns),Ad.feature_importances_))\n",
        "print(l)"
      ],
      "metadata": {
        "id": "Tf7vYC6JOM3g"
      },
      "execution_count": null,
      "outputs": []
    },
    {
      "cell_type": "code",
      "execution_count": null,
      "metadata": {
        "id": "uVh7iayPx78J"
      },
      "outputs": [],
      "source": [
        "l = list(zip(list(X.columns),Ad.features_importances_))\n",
        "print(l)"
      ]
    },
    {
      "cell_type": "markdown",
      "metadata": {
        "id": "CgfWp0MWz1og"
      },
      "source": [
        "## Realiza alguna inferencia.\n",
        "Que propone para las filas 5 y 80 del Titanic.csv"
      ]
    },
    {
      "cell_type": "code",
      "execution_count": null,
      "metadata": {
        "id": "KtkKlHRM1fzI"
      },
      "outputs": [],
      "source": [
        "X.iloc[[5,80]]"
      ]
    },
    {
      "cell_type": "code",
      "source": [
        "Ad.predict(X.iloc[[5,80]].values)"
      ],
      "metadata": {
        "id": "7fuzuh6wN3nV"
      },
      "execution_count": null,
      "outputs": []
    }
  ],
  "metadata": {
    "colab": {
      "private_outputs": true,
      "provenance": [],
      "include_colab_link": true
    },
    "kernelspec": {
      "display_name": "Python 3 (ipykernel)",
      "language": "python",
      "name": "python3"
    },
    "language_info": {
      "codemirror_mode": {
        "name": "ipython",
        "version": 3
      },
      "file_extension": ".py",
      "mimetype": "text/x-python",
      "name": "python",
      "nbconvert_exporter": "python",
      "pygments_lexer": "ipython3",
      "version": "3.9.7"
    }
  },
  "nbformat": 4,
  "nbformat_minor": 0
}