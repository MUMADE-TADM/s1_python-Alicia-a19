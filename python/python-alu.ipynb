{
 "cells": [
  {
   "cell_type": "markdown",
   "metadata": {},
   "source": [
    "# Lenguaje __PYTHON 3.x__\n",
    "\n",
    "Referencia y documentación oficial [Pulsar](https://docs.python.org/es/3/index.html)"
   ]
  },
  {
   "cell_type": "markdown",
   "metadata": {},
   "source": [
    "## Variable __SIMPLES__"
   ]
  },
  {
   "cell_type": "markdown",
   "metadata": {},
   "source": [
    "### Cadenas __STRING__"
   ]
  },
  {
   "cell_type": "code",
   "execution_count": 1,
   "metadata": {},
   "outputs": [
    {
     "name": "stdout",
     "output_type": "stream",
     "text": [
      "Hola mundo\n"
     ]
    }
   ],
   "source": [
    "cadena = 'Hola mundo'\n",
    "print(cadena)"
   ]
  },
  {
   "cell_type": "code",
   "execution_count": 3,
   "metadata": {},
   "outputs": [
    {
     "name": "stdout",
     "output_type": "stream",
     "text": [
      "Ingrese su nombre: Alicia\n",
      "Hola  Alicia\n",
      "Hola Alicia\n"
     ]
    }
   ],
   "source": [
    "nombre = input('Ingrese su nombre: ')\n",
    "print('Hola ', nombre)\n",
    "print(f'Hola {nombre}')"
   ]
  },
  {
   "cell_type": "markdown",
   "metadata": {},
   "source": [
    "# Header 1\n",
    "## Header 2"
   ]
  },
  {
   "cell_type": "code",
   "execution_count": 4,
   "metadata": {},
   "outputs": [
    {
     "name": "stdout",
     "output_type": "stream",
     "text": [
      "Alicia\n",
      "ALICIA\n",
      "alicia\n",
      "Alicia\n",
      "aLICIA\n",
      "> esto es una cadena  <\n",
      ">esto es una cadena<\n",
      "18\n"
     ]
    }
   ],
   "source": [
    "# Primera letra en mayuscula\n",
    "nombre = nombre.capitalize()\n",
    "print(nombre)\n",
    "# Todo a mayúsculas\n",
    "nombre = nombre.upper()\n",
    "print(nombre)\n",
    "# Todo a minúsculas\n",
    "nombre = nombre.lower()\n",
    "print(nombre)\n",
    "# Semejante a capitalize\n",
    "nombre = nombre.title()\n",
    "print(nombre)\n",
    "# Cambia mayusculas a minusculas y viceversa\n",
    "nombre = nombre.swapcase()\n",
    "print(nombre)\n",
    "# Elimina espacios en blanco al inicio y final de la cadena\n",
    "cadena = \" esto es una cadena  \"\n",
    "print(f'>{cadena}<')\n",
    "cadena = cadena.strip()\n",
    "print(f'>{cadena}<')\n",
    "# longitud de la cadena\n",
    "print(len(cadena))\n",
    "\n"
   ]
  },
  {
   "cell_type": "markdown",
   "metadata": {},
   "source": [
    "En la siguiente celda escriba un código de python que lea su nombre y sus apellidos y los muestre sin blancos al principio ni al final con un mensaje con el siguiente formato : \n",
    "\n",
    "**Hola** \\<Nombre\\>**, me gusta como suena** \\<Apellido\\> **como apellido**.\n",
    "\n",
    "- \\<Nombre\\> en formato con la primera letra en Mayúscula y el resto en minúsculas.\n",
    "- \\<Apellido\\> todo en mayúscula sin blancos al principio y al final.\n",
    "\n",
    "Utiliza f cadenas."
   ]
  },
  {
   "cell_type": "code",
   "execution_count": 12,
   "metadata": {},
   "outputs": [
    {
     "name": "stdout",
     "output_type": "stream",
     "text": [
      "Hola Alicia, me gusta como suena MEGIA como apellido.\n"
     ]
    }
   ],
   "source": [
    "nombre = input('Ingrese su nombre: ')\n",
    "apellido = input('Ingrese su apellido: ')\n",
    "nombre = nombre.capitalize()\n",
    "apellidos = apellido.upper().strip()\n",
    "print(f'Hola {nombre}, me gusta como suena {apellidos} como apellido.')"
   ]
  },
  {
   "cell_type": "code",
   "execution_count": 5,
   "metadata": {},
   "outputs": [
    {
     "name": "stdout",
     "output_type": "stream",
     "text": [
      "Hola mundo\n"
     ]
    }
   ],
   "source": [
    "# Concatenar dos cadenas\n",
    "cadena1 ='Hola'\n",
    "cadena2 =' mundo'\n",
    "cadena3 = cadena1 + cadena2\n",
    "print(cadena3)"
   ]
  },
  {
   "cell_type": "markdown",
   "metadata": {},
   "source": [
    "Para saber más funcionalidades de las cadenas. [**Pulsa**](https://docs.python.org/es/3/library/string.html)"
   ]
  },
  {
   "cell_type": "markdown",
   "metadata": {},
   "source": [
    "### Números"
   ]
  },
  {
   "cell_type": "markdown",
   "metadata": {},
   "source": [
    "#### Enteros __INT__"
   ]
  },
  {
   "cell_type": "code",
   "execution_count": 18,
   "metadata": {},
   "outputs": [
    {
     "name": "stdout",
     "output_type": "stream",
     "text": [
      "45\n",
      "45\n"
     ]
    }
   ],
   "source": [
    "numero = 45\n",
    "cadena4 = str(numero)\n",
    "print(cadena4)\n",
    "numero = int(cadena4)\n",
    "print(numero)"
   ]
  },
  {
   "cell_type": "code",
   "execution_count": 6,
   "metadata": {},
   "outputs": [
    {
     "name": "stdout",
     "output_type": "stream",
     "text": [
      "Ingrese su edad: 22\n",
      "Su edad es 22\n",
      "<class 'int'>\n",
      "Usted tiene 8030 dias de vida\n",
      "Usted tiene 693792000 segundos de vida\n",
      "Usted tiene 693792000000000000 nanosegundos de vida\n"
     ]
    }
   ],
   "source": [
    "edad = int(input('Ingrese su edad: '))\n",
    "print(f'Su edad es {edad}')\n",
    "print(type(edad))\n",
    "\n",
    "dias = 365*edad\n",
    "print(f'Usted tiene {dias} dias de vida')\n",
    "\n",
    "segundos = dias*24*3600\n",
    "print(f'Usted tiene {segundos} segundos de vida')\n",
    "\n",
    "nanosegundos = segundos*1000000000\n",
    "print(f'Usted tiene {nanosegundos} nanosegundos de vida')\n"
   ]
  },
  {
   "cell_type": "code",
   "execution_count": 7,
   "metadata": {},
   "outputs": [
    {
     "name": "stdout",
     "output_type": "stream",
     "text": [
      "Potencia 25\n",
      "Raiz cuadrada 2\n",
      "Resto 1\n"
     ]
    }
   ],
   "source": [
    "print(f'Potencia {5**2}')\n",
    "print(f'Raiz cuadrada {5 // 2}')\n",
    "print(f'Resto {5 % 2}')"
   ]
  },
  {
   "cell_type": "markdown",
   "metadata": {},
   "source": [
    "Calcula en la siguiente celda el número de semana, completas, que han trascurrido desde el nacimiento de la **Tierra** hace 4540 millones de años"
   ]
  },
  {
   "cell_type": "code",
   "execution_count": 41,
   "metadata": {},
   "outputs": [
    {
     "name": "stdout",
     "output_type": "stream",
     "text": [
      "La Tierra tiene 4540000000 años\n",
      "La Tierra tiene 236728571429 semanas\n",
      "La Tierra tiene 236728571428 semanas\n",
      "2.4E+11\n"
     ]
    }
   ],
   "source": [
    "edad_tierra_años = 4540*(10**6) # años\n",
    "print(f'La Tierra tiene {edad_tierra_años} años')\n",
    "# 365 días = 1 año\n",
    "edad_tierra_dias = edad_tierra_años*365 # dias\n",
    "edad_tierra_horas = edad_tierra_dias*24 # horas\n",
    "edad_tierra_segundos = edad_tierra_horas*3600 # segundos\n",
    "edad_tierra_semanas = edad_tierra_dias/7 # semanas\n",
    "edad_tierra_semanas2 = edad_tierra_dias//7 # semanas (división entera)\n",
    "print(f'La Tierra tiene {round(edad_tierra_semanas)} semanas')\n",
    "print(f'La Tierra tiene {edad_tierra_semanas2} semanas')\n",
    "# edad_tierra_semanas = round(4540 * (10**6) * 365 / 7)\n",
    "print(format(edad_tierra_semanas,'.1E')) #notación científica"
   ]
  },
  {
   "cell_type": "markdown",
   "metadata": {},
   "source": [
    "#### Reales __FLOAT__"
   ]
  },
  {
   "cell_type": "code",
   "execution_count": 21,
   "metadata": {},
   "outputs": [
    {
     "name": "stdout",
     "output_type": "stream",
     "text": [
      "3.14159265\n"
     ]
    }
   ],
   "source": [
    "real = 3.14159265\n",
    "print(f'{real}')"
   ]
  },
  {
   "cell_type": "code",
   "execution_count": 40,
   "metadata": {},
   "outputs": [
    {
     "data": {
      "text/plain": [
       "3.141592653589793"
      ]
     },
     "execution_count": 40,
     "metadata": {},
     "output_type": "execute_result"
    }
   ],
   "source": [
    "import math\n",
    "math.pi\n"
   ]
  },
  {
   "cell_type": "code",
   "execution_count": 24,
   "metadata": {},
   "outputs": [
    {
     "name": "stdout",
     "output_type": "stream",
     "text": [
      "3.3333333333333335\n",
      "3.33\n"
     ]
    }
   ],
   "source": [
    "real = 10/3\n",
    "print(f'{real}')\n",
    "print(f'{real:.2f}')"
   ]
  },
  {
   "cell_type": "code",
   "execution_count": 32,
   "metadata": {},
   "outputs": [
    {
     "name": "stdout",
     "output_type": "stream",
     "text": [
      "Ingrese el valor en euros: 5.0289\n",
      "El valor en dólares es: 5.934102\n",
      "El valor en dólares es: 5.93\n",
      "El valor en dólares es: 5.934\n"
     ]
    }
   ],
   "source": [
    "# Cotización de dólares\n",
    "dolares = float(input('Ingrese el valor en euros: '))\n",
    "print(f'El valor en dólares es: {dolares*1.18}')\n",
    "# Redondear valor\n",
    "print(f'El valor en dólares es: {dolares*1.18:.2f}') \n",
    "print(f'El valor en dólares es: {round(dolares*1.18, 3)}') "
   ]
  },
  {
   "cell_type": "code",
   "execution_count": 42,
   "metadata": {},
   "outputs": [
    {
     "name": "stdout",
     "output_type": "stream",
     "text": [
      "Ingrese el primer número: 7.41\n",
      "Ingrese el segundo número: 3.98\n",
      "La suma es: 11.39\n",
      "La resta es: 3.43\n",
      "La multiplicación es: 29.4918\n",
      "La división es: 1.8618090452261307\n",
      "La división entera es: 1.0\n",
      "La resto es: 3.43\n",
      "La potencia es: 2896.5195743499744\n"
     ]
    }
   ],
   "source": [
    "# Float operadores\n",
    "numero1 = float(input('Ingrese el primer número: '))\n",
    "numero2 = float(input('Ingrese el segundo número: '))\n",
    "print(f'La suma es: {numero1 + numero2}')\n",
    "print(f'La resta es: {numero1 - numero2}')\n",
    "print(f'La multiplicación es: {numero1 * numero2}')\n",
    "print(f'La división es: {numero1 / numero2}')\n",
    "print(f'La división entera es: {numero1 // numero2}')\n",
    "print(f'La resto es: {numero1 % numero2}')\n",
    "print(f'La potencia es: {numero1**numero2}')\n"
   ]
  },
  {
   "cell_type": "markdown",
   "metadata": {},
   "source": [
    "El la siguiente celda calcula el área de un círculo, en m^2, pidiendo el radio del mismo en mm.\n",
    "\n",
    "Muestra el resultado con 2 decimales."
   ]
  },
  {
   "cell_type": "code",
   "execution_count": 48,
   "metadata": {},
   "outputs": [
    {
     "name": "stdout",
     "output_type": "stream",
     "text": [
      "Ingrese el valor del radio en mm: 500\n",
      " El área del círculo en m2 es: 0.79\n",
      " El área del círculo en m2 es: 0.79\n"
     ]
    }
   ],
   "source": [
    "from math import pi\n",
    "\n",
    "radio = float(input('Ingrese el valor del radio en mm: '))\n",
    "area_circulo = math.pi*((radio**2)/10**6)\n",
    "print(f' El área del círculo en m2 es: {round(area_circulo, 2)}')\n",
    "print(f' El área del círculo en m2 es: {area_circulo:.2f}')"
   ]
  },
  {
   "cell_type": "markdown",
   "metadata": {},
   "source": [
    "### Lógicas __BOOL__"
   ]
  },
  {
   "cell_type": "code",
   "execution_count": 49,
   "metadata": {},
   "outputs": [
    {
     "name": "stdout",
     "output_type": "stream",
     "text": [
      "Y:True\n",
      "Y:False\n",
      "O:True\n",
      "O:True\n",
      "NO:False\n",
      "NO:True\n"
     ]
    }
   ],
   "source": [
    "Verdadero = True\n",
    "Falso = False\n",
    "\n",
    "print(f'Y:{Verdadero and Verdadero}')\n",
    "print(f'Y:{Verdadero and Falso}')\n",
    "print(f'O:{Verdadero or Falso}')\n",
    "print(f'O:{Verdadero or Verdadero}')\n",
    "print(f'NO:{not Verdadero}')\n",
    "print(f'NO:{not Falso}')\n"
   ]
  },
  {
   "cell_type": "code",
   "execution_count": 50,
   "metadata": {},
   "outputs": [
    {
     "name": "stdout",
     "output_type": "stream",
     "text": [
      "Ingrese el primer número: 8\n",
      "Ingrese el segundo número: 4\n",
      "8 es mayor que 4: True\n",
      "8 es menor que 4: False\n",
      "8 es mayor o igual que 4: True\n",
      "8 es menor o igual que 4: False\n",
      "8 es igual que 4: False\n",
      "8 es diferente que 4: True\n"
     ]
    }
   ],
   "source": [
    "# Operadores de comparación con números\n",
    "numero1 = int(input('Ingrese el primer número: '))\n",
    "numero2 = int(input('Ingrese el segundo número: '))\n",
    "print(f'{numero1} es mayor que {numero2}: {numero1>numero2}')\n",
    "print(f'{numero1} es menor que {numero2}: {numero1<numero2}')\n",
    "print(f'{numero1} es mayor o igual que {numero2}: {numero1>=numero2}')\n",
    "print(f'{numero1} es menor o igual que {numero2}: {numero1<=numero2}')\n",
    "print(f'{numero1} es igual que {numero2}: {numero1==numero2}')  \n",
    "print(f'{numero1} es diferente que {numero2}: {numero1!=numero2}')"
   ]
  },
  {
   "cell_type": "code",
   "execution_count": 54,
   "metadata": {},
   "outputs": [
    {
     "name": "stdout",
     "output_type": "stream",
     "text": [
      "Ingrese la primera cadena: Matemáticas\n",
      "Ingrese la segunda cadena: Física\n",
      "Matemáticas es mayor que Física: True\n",
      "Matemáticas es menor que Física: False\n",
      "Matemáticas es mayor o igual que Física: True\n",
      "Matemáticas es menor o igual que Física: False\n",
      "Matemáticas es igual que Física: False\n",
      "Matemáticas es diferente que Física: True\n"
     ]
    }
   ],
   "source": [
    "# Operadores de comparación con cadenas\n",
    "cadena1 = input('Ingrese la primera cadena: ')\n",
    "cadena2 = input('Ingrese la segunda cadena: ')\n",
    "print(f'{cadena1} es mayor que {cadena2}: {cadena1>cadena2}')\n",
    "print(f'{cadena1} es menor que {cadena2}: {cadena1<cadena2}')\n",
    "print(f'{cadena1} es mayor o igual que {cadena2}: {cadena1>=cadena2}')\n",
    "print(f'{cadena1} es menor o igual que {cadena2}: {cadena1<=cadena2}')\n",
    "print(f'{cadena1} es igual que {cadena2}: {cadena1==cadena2}')\n",
    "print(f'{cadena1} es diferente que {cadena2}: {cadena1!=cadena2}')"
   ]
  },
  {
   "cell_type": "markdown",
   "metadata": {},
   "source": [
    "## Variables __COMPUESTAS__"
   ]
  },
  {
   "cell_type": "markdown",
   "metadata": {},
   "source": [
    "### Listas __LIST__"
   ]
  },
  {
   "cell_type": "code",
   "execution_count": 56,
   "metadata": {},
   "outputs": [
    {
     "name": "stdout",
     "output_type": "stream",
     "text": [
      "['Hola', 'mundo', 'como', 'estas', 8, 45, 19.2]\n",
      "Hola\n",
      "mundo\n",
      "como\n",
      "estas\n",
      "19.2\n",
      "45\n",
      "8\n",
      "estas\n",
      "[]\n",
      "4\n"
     ]
    }
   ],
   "source": [
    "lista = ['Hola', 'mundo', 'como', 'estas', 8, 45, 19.2]\n",
    "print(lista)\n",
    "print(lista[0])\n",
    "print(lista[1])\n",
    "print(lista[2])\n",
    "print(lista[3])\n",
    "print(lista[-1])\n",
    "print(lista[-2])\n",
    "print(lista[-3])\n",
    "print(lista[-4])\n",
    "\n",
    "#Establecer una lista vacía\n",
    "lista = []\n",
    "print(lista)\n",
    "\n",
    "lista2 = [[1,2,3],[4,5,6]] # Matriz 2x2\n",
    "print(lista2[1][0])\n"
   ]
  },
  {
   "cell_type": "code",
   "execution_count": 57,
   "metadata": {},
   "outputs": [
    {
     "name": "stdout",
     "output_type": "stream",
     "text": [
      "['Hola', 'mundo', 'como', 'estas']\n",
      "['Hola mundo', 'mundo', 'como', 'estas']\n"
     ]
    }
   ],
   "source": [
    "# Cambiar un valor de una lista\n",
    "lista = ['Hola','mundo','como','estas']\n",
    "print(lista)\n",
    "lista[0] = 'Hola mundo'\n",
    "print(lista)"
   ]
  },
  {
   "cell_type": "markdown",
   "metadata": {},
   "source": [
    "Slice de una lista identifica una sublista\n",
    "\n",
    "lista[\\<indx inferior\\>:\\<indx superios -1\\>]"
   ]
  },
  {
   "cell_type": "code",
   "execution_count": 58,
   "metadata": {},
   "outputs": [
    {
     "name": "stdout",
     "output_type": "stream",
     "text": [
      "['Hola', 'mundo', 'como', 'estas']\n",
      "elementos 0 y 1 :['Hola', 'mundo']\n",
      "elementos 2 y 3 :['como', 'estas']\n",
      "Invertida ['estas', 'como', 'mundo', 'Hola']\n"
     ]
    }
   ],
   "source": [
    "# Rodajas de una lista\n",
    "lista = ['Hola','mundo','como','estas']\n",
    "print(lista)\n",
    "print(f'elementos 0 y 1 :{lista[0:2]}')\n",
    "print(f'elementos 2 y 3 :{lista[2:4]}')\n",
    "print(f'Invertida {lista[::-1]}')"
   ]
  },
  {
   "cell_type": "code",
   "execution_count": 61,
   "metadata": {},
   "outputs": [
    {
     "name": "stdout",
     "output_type": "stream",
     "text": [
      "['Hola', 'mundo', 'como', 'estas']\n",
      "['Hola', 'mundo', 'como', 'estas', 'nuevo']\n",
      "['nuevo', 'Hola', 'mundo', 'como', 'estas', 'nuevo']\n"
     ]
    }
   ],
   "source": [
    "# Agregar elementos a una lista\n",
    "lista = ['Hola','mundo','como','estas']\n",
    "print(lista)\n",
    "lista.append('nuevo') # Agregar elemento al final\n",
    "print(lista)\n",
    "lista.insert(0, 'nuevo') # Agregar elemento en posición determinada\n",
    "print(lista)"
   ]
  },
  {
   "cell_type": "code",
   "execution_count": 64,
   "metadata": {},
   "outputs": [
    {
     "name": "stdout",
     "output_type": "stream",
     "text": [
      "['Hola', 'mundo', 'como', 'estas']\n",
      "['mundo', 'como', 'estas']\n",
      "['mundo', 'como']\n",
      "['como']\n"
     ]
    }
   ],
   "source": [
    "# Eliminar elementos de una lista\n",
    "lista = ['Hola','mundo','como','estas']\n",
    "print(lista)\n",
    "lista.remove('Hola') # Eliminar elemento seleccionado\n",
    "print(lista)\n",
    "lista.pop() # Eliminar elemento final\n",
    "print(lista)\n",
    "lista.pop(0) # Eliminar elemento por posición determinada\n",
    "print(lista)"
   ]
  },
  {
   "cell_type": "code",
   "execution_count": 65,
   "metadata": {},
   "outputs": [
    {
     "name": "stdout",
     "output_type": "stream",
     "text": [
      "[1, 2, 3, 4, 5, 6, 7, 8, 9, 10]\n",
      "['H', 'o', 'l', 'a', ' ', 'm', 'u', 'n', 'd', 'o']\n",
      "<built-in method split of str object at 0x000001C4D1DCAE30>\n",
      "['Hola mundo', ' ¿que crees que quiero?']\n",
      "['Hola', 'mundo', 'como', 'estas']\n"
     ]
    }
   ],
   "source": [
    "# Generar una lista con números\n",
    "lista = list(range(1,11)) # Intervalo de números no llega al límite superior \n",
    "print(lista)\n",
    "\n",
    "# Generar una lista a partir de una cadena\n",
    "lista = list('Hola mundo')\n",
    "print(lista)\n",
    "\n",
    "# Divirdir una cadena en una lista\n",
    "cadena = 'Hola mundo' \n",
    "lista = cadena.split\n",
    "print(lista) # Incluye el espacio en blanco entre las dos palabras\n",
    "\n",
    "cadena = 'Hola mundo, ¿que crees que quiero?'\n",
    "lista = cadena.split(',')\n",
    "print(lista)\n",
    "\n",
    "# Concatenar dos listas\n",
    "lista1 = ['Hola','mundo']\n",
    "lista2 = ['como','estas']\n",
    "lista3 = lista1+lista2\n",
    "print(lista3)"
   ]
  },
  {
   "cell_type": "code",
   "execution_count": 66,
   "metadata": {},
   "outputs": [
    {
     "name": "stdout",
     "output_type": "stream",
     "text": [
      "['Hola', 'mundo', 'como', 'estas']\n",
      "['Hola', 'como', 'estas', 'mundo']\n",
      "['mundo', 'estas', 'como', 'Hola']\n"
     ]
    }
   ],
   "source": [
    "# Ordenar una lista\n",
    "lista=['Hola','mundo','como','estas']\n",
    "print(lista)\n",
    "lista.sort() # Ordena de menor a mayor (por número de letras)\n",
    "print(lista)\n",
    "lista.reverse() # Ordena de mayor a menor (por número de letras)\n",
    "print(lista)"
   ]
  },
  {
   "cell_type": "code",
   "execution_count": 72,
   "metadata": {},
   "outputs": [
    {
     "name": "stdout",
     "output_type": "stream",
     "text": [
      "[3, 14159265, 9.81, 177013, 34, 6.022e+23]\n",
      "[3, 9.81, 34, 177013, 14159265, 6.022e+23]\n",
      "[6.022e+23, 14159265, 177013, 34, 9.81, 3]\n"
     ]
    }
   ],
   "source": [
    "# Ordenar una lista\n",
    "lista = [3,14159265, 9.81, 177013, 34, 6.022E23]\n",
    "print(lista)\n",
    "lista.sort() # Números de menor a mayor\n",
    "print(lista)\n",
    "lista.reverse() # Orden inverso\n",
    "print(lista)"
   ]
  },
  {
   "cell_type": "code",
   "execution_count": 73,
   "metadata": {},
   "outputs": [
    {
     "name": "stdout",
     "output_type": "stream",
     "text": [
      "['Hola', 'mundo', 'como', 'estas']\n",
      "['Hola', 'mundo', 'como', 'estas']\n"
     ]
    }
   ],
   "source": [
    "#Copiar una lista\n",
    "lista = ['Hola' ,'mundo', 'como', 'estas']\n",
    "print(lista)\n",
    "lista2 = lista.copy()\n",
    "print(lista2)"
   ]
  },
  {
   "cell_type": "code",
   "execution_count": 75,
   "metadata": {},
   "outputs": [
    {
     "name": "stdout",
     "output_type": "stream",
     "text": [
      "['Hola', 'mundo', 'como', 'estas']\n",
      "El número de elementos es: 4\n",
      "Hola está en la lista: True\n",
      "Hola está en la lista: False\n"
     ]
    }
   ],
   "source": [
    "# Contar elementos de una lista\n",
    "lista = ['Hola','mundo','como','estas']\n",
    "print(lista)\n",
    "print(f'El número de elementos es: {len(lista)}')\n",
    "\n",
    "# Pertenencia de un elemento en una lista\n",
    "print(f'Hola está en la lista: {(\"Hola\" in lista)}')\n",
    "print(f'Hola está en la lista: {\"Hola\" not in (lista)}')"
   ]
  },
  {
   "cell_type": "code",
   "execution_count": 77,
   "metadata": {},
   "outputs": [
    {
     "name": "stdout",
     "output_type": "stream",
     "text": [
      "['Hola', 'mundo', 'como', 'estas']\n",
      "Hola está en la lista: 1\n"
     ]
    }
   ],
   "source": [
    "# Buscar elementos de una lista\n",
    "lista = ['Hola','mundo','como','estas']\n",
    "print(lista)\n",
    "print(f'Hola está en la lista: {lista.count(\"Hola\")}')"
   ]
  },
  {
   "cell_type": "code",
   "execution_count": 78,
   "metadata": {},
   "outputs": [
    {
     "name": "stdout",
     "output_type": "stream",
     "text": [
      "['Hola', 'mundo', 'como', 'estas']\n",
      "['Hola', 'mundo', 'como', 'estas']\n",
      "La lista 1 es igual a la lista 2: True\n",
      "La lista 1 es diferente a la lista 2: False\n"
     ]
    }
   ],
   "source": [
    "# Operadores de listas\n",
    "lista = ['Hola','mundo','como','estas']\n",
    "print(lista)\n",
    "lista2 = ['Hola','mundo','como','estas']\n",
    "print(lista2)\n",
    "print(f'La lista 1 es igual a la lista 2: {lista==lista2}')\n",
    "print(f'La lista 1 es diferente a la lista 2: {lista!=lista2}')"
   ]
  },
  {
   "cell_type": "markdown",
   "metadata": {},
   "source": [
    "En la siguiente celda pide una línea por teclado con el nombre y los dos apellidos y muestra una salida con los apellidos y el nombre con su primera letra mayúscula. "
   ]
  },
  {
   "cell_type": "code",
   "execution_count": 144,
   "metadata": {},
   "outputs": [
    {
     "name": "stdout",
     "output_type": "stream",
     "text": [
      "Ingrese su nombre: Al\n",
      "Ingrese sus apellidos: berilio cobalto\n",
      "El nombre registrado es: Al\n",
      "Los apellidos correspondientes son: Berilio cobalto\n",
      "El nombre completo de la persona es: Al Berilio cobalto\n"
     ]
    }
   ],
   "source": [
    "nombre = input('Ingrese su nombre: ')\n",
    "apellidos = input('Ingrese sus apellidos: ')\n",
    "nombre = nombre.capitalize()\n",
    "apellidos = apellidos.capitalize()\n",
    "# print(nombre)\n",
    "# print(apellidos)\n",
    "print(f'El nombre registrado es: {nombre}')\n",
    "print(f'Los apellidos correspondientes son: {apellidos}')\n",
    "print(f'El nombre completo de la persona es: {nombre} {apellidos}')"
   ]
  },
  {
   "cell_type": "markdown",
   "metadata": {},
   "source": [
    "Para saber más sobre listas [Pulsar](https://docs.python.org/3/tutorial/datastructures.html)"
   ]
  },
  {
   "cell_type": "markdown",
   "metadata": {},
   "source": [
    "### Tuplas __TUPLES__"
   ]
  },
  {
   "cell_type": "code",
   "execution_count": 76,
   "metadata": {},
   "outputs": [
    {
     "name": "stdout",
     "output_type": "stream",
     "text": [
      "('Hola', 'mundo', 'como', 'estas')\n",
      "('Hola', 'mundo', 'como', 'estas')\n",
      "La tupla 1 es igual a la tupla 2: True\n",
      "La tupla 1 es diferente a la tupla 2: False\n"
     ]
    }
   ],
   "source": [
    "tupla = ('Hola','mundo','como','estas')\n",
    "print(tupla)\n",
    "tupla2 = ('Hola','mundo','como','estas')\n",
    "print(tupla2)\n",
    "print(f'La tupla 1 es igual a la tupla 2: {tupla==tupla2}')\n",
    "print(f'La tupla 1 es diferente a la tupla 2: {tupla!=tupla2}')"
   ]
  },
  {
   "cell_type": "code",
   "execution_count": 135,
   "metadata": {},
   "outputs": [
    {
     "name": "stdout",
     "output_type": "stream",
     "text": [
      "Primer elemento :como\n",
      "Ultimo elemento :estas\n",
      "Elementos 2 y 3 :('como', 'estas')\n",
      "Invertida :('estas', 'como', 'mundo', 'Hola')\n"
     ]
    },
    {
     "ename": "TypeError",
     "evalue": "'tuple' object does not support item assignment",
     "output_type": "error",
     "traceback": [
      "\u001b[1;31m---------------------------------------------------------------------------\u001b[0m",
      "\u001b[1;31mTypeError\u001b[0m                                 Traceback (most recent call last)",
      "\u001b[1;32m~\\AppData\\Local\\Temp/ipykernel_15164/152271760.py\u001b[0m in \u001b[0;36m<module>\u001b[1;34m\u001b[0m\n\u001b[0;32m      5\u001b[0m \u001b[0mprint\u001b[0m\u001b[1;33m(\u001b[0m\u001b[1;34mf'Invertida :{tupla[::-1]}'\u001b[0m\u001b[1;33m)\u001b[0m\u001b[1;33m\u001b[0m\u001b[1;33m\u001b[0m\u001b[0m\n\u001b[0;32m      6\u001b[0m \u001b[1;33m\u001b[0m\u001b[0m\n\u001b[1;32m----> 7\u001b[1;33m \u001b[0mtupla\u001b[0m\u001b[1;33m[\u001b[0m\u001b[1;36m0\u001b[0m\u001b[1;33m]\u001b[0m \u001b[1;33m=\u001b[0m \u001b[1;34m'Hola'\u001b[0m\u001b[1;33m\u001b[0m\u001b[1;33m\u001b[0m\u001b[0m\n\u001b[0m",
      "\u001b[1;31mTypeError\u001b[0m: 'tuple' object does not support item assignment"
     ]
    }
   ],
   "source": [
    "tupla = ('Hola','mundo','como','estas')\n",
    "print(f'Primer elemento :{tupla[2]}')\n",
    "print(f'Ultimo elemento :{tupla[-1]}')\n",
    "print(f'Elementos 2 y 3 :{tupla[2:4]}')\n",
    "print(f'Invertida :{tupla[::-1]}')\n",
    "\n",
    "tupla[0] = 'Hola' # Las tuplas no pueden ser modificadas"
   ]
  },
  {
   "cell_type": "code",
   "execution_count": 80,
   "metadata": {},
   "outputs": [
    {
     "name": "stdout",
     "output_type": "stream",
     "text": [
      "[('Hola', 0), ('mundo', 1), ('como', 2), ('estas', 3)]\n"
     ]
    }
   ],
   "source": [
    "# Combina dos listas\n",
    "lista1 = ['Hola','mundo','como','estas']\n",
    "lista2 = range(0,len(lista1))\n",
    "lista3 = list(zip(lista1,lista2))\n",
    "print(lista3)\n"
   ]
  },
  {
   "cell_type": "markdown",
   "metadata": {},
   "source": [
    "### Diccionarios __DIC__"
   ]
  },
  {
   "cell_type": "code",
   "execution_count": 81,
   "metadata": {},
   "outputs": [
    {
     "name": "stdout",
     "output_type": "stream",
     "text": [
      "{'Nombre': 'Juan', 'Edad': 20, 'Carrera': 'Ingenieria'}\n",
      "Nombre: Juan\n",
      "Edad: 20\n",
      "Carrera: Ingenieria\n"
     ]
    }
   ],
   "source": [
    "diccionario = {'Nombre':'Juan','Edad':20,'Carrera':'Ingenieria'}\n",
    "print(diccionario)\n",
    "print(f'Nombre: {diccionario[\"Nombre\"]}')\n",
    "print(f'Edad: {diccionario[\"Edad\"]}')\n",
    "print(f'Carrera: {diccionario[\"Carrera\"]}')\n",
    "\n",
    "# M12={(0,0):1,(1,0):37}\n",
    "\n"
   ]
  },
  {
   "cell_type": "code",
   "execution_count": 83,
   "metadata": {},
   "outputs": [
    {
     "name": "stdout",
     "output_type": "stream",
     "text": [
      "{}\n"
     ]
    }
   ],
   "source": [
    "# Diccionario vacio \n",
    "diccionario = {}\n",
    "print(diccionario)"
   ]
  },
  {
   "cell_type": "code",
   "execution_count": 85,
   "metadata": {},
   "outputs": [
    {
     "name": "stdout",
     "output_type": "stream",
     "text": [
      "{'Nombre': 'Pedro'}\n"
     ]
    }
   ],
   "source": [
    "# Asignación de un elemento\n",
    "diccionario['Nombre']='Pedro'\n",
    "print(diccionario)"
   ]
  },
  {
   "cell_type": "code",
   "execution_count": 86,
   "metadata": {},
   "outputs": [
    {
     "name": "stdout",
     "output_type": "stream",
     "text": [
      "Lista de llaves:dict_keys(['Nombre'])\n",
      "Lista de valores:dict_values(['Pedro'])\n",
      "Lista de pares:dict_items([('Nombre', 'Pedro')])\n"
     ]
    }
   ],
   "source": [
    "# Lista de índices /keys\n",
    "print(f'Lista de llaves:{diccionario.keys()}')\n",
    "# Lista de valores\n",
    "print(f'Lista de valores:{diccionario.values()}')\n",
    "# Lista de pares\n",
    "print(f'Lista de pares:{diccionario.items()}')\n"
   ]
  },
  {
   "cell_type": "code",
   "execution_count": 90,
   "metadata": {},
   "outputs": [
    {
     "name": "stdout",
     "output_type": "stream",
     "text": [
      "{'Nombre': 'Pedro', 'Telefono': '3411701355'}\n"
     ]
    }
   ],
   "source": [
    "# Añadir un elemento con clave nueva\n",
    "diccionario['Telefono'] = '3411701355'\n",
    "print(diccionario)"
   ]
  },
  {
   "cell_type": "markdown",
   "metadata": {},
   "source": [
    "## Estructuras de control __CONTROL__"
   ]
  },
  {
   "cell_type": "markdown",
   "metadata": {},
   "source": [
    "### Decisión __IF__"
   ]
  },
  {
   "cell_type": "markdown",
   "metadata": {},
   "source": [
    "~~~\n",
    "if [condicion] :\n",
    "    [acción]\n",
    "else\n",
    "    [acción]\n",
    "~~~"
   ]
  },
  {
   "cell_type": "code",
   "execution_count": 93,
   "metadata": {},
   "outputs": [
    {
     "name": "stdout",
     "output_type": "stream",
     "text": [
      "Ingrese su apellido (sin acentos): gutierrez\n",
      "Premio por apedillarse GUTIERREZ\n",
      "El número de caracteres es: 9\n"
     ]
    }
   ],
   "source": [
    "apellido = input('Ingrese su apellido (sin acentos): ').upper()\n",
    "if apellido in ['ORTEGA','FERNANDEZ','GUZMAN', 'MEGIA', 'GUTIERREZ']:\n",
    "    print(f'Premio por apedillarse {apellido}')\n",
    "else:\n",
    "    print(f'No se le otorga el premio a {apellido}')\n",
    "\n",
    "print(f'El número de caracteres es: {len(apellido)}')"
   ]
  },
  {
   "cell_type": "markdown",
   "metadata": {},
   "source": [
    "~~~\n",
    "if [condición1]:\n",
    "    [acción 1]\n",
    "elif [condicción 2]:\n",
    "    [acción 2]\n",
    ".................\n",
    "elif [condición n]:\n",
    "    [acción n]\n",
    "else:\n",
    "    [acción]\n",
    "~~~"
   ]
  },
  {
   "cell_type": "code",
   "execution_count": 5,
   "metadata": {},
   "outputs": [
    {
     "name": "stdout",
     "output_type": "stream",
     "text": [
      "Libra\n"
     ]
    }
   ],
   "source": [
    "fecha = input('Ingrese su fecha de nacimiento (dd/mm/aaaa): ').split('/')\n",
    "dia,mes = int(fecha[0]),int(fecha[1])\n",
    "#calcular tu signo del zodiaco\n",
    "if mes==1:\n",
    "    if dia<=19:\n",
    "        print('Capricornio')\n",
    "    else:\n",
    "        print('Acuario')\n",
    "elif mes==2:\n",
    "    if dia<=18:\n",
    "        print('Acuario')\n",
    "    else:\n",
    "        print('Piscis')\n",
    "elif mes==3:\n",
    "    if dia<=20:\n",
    "        print('Piscis')\n",
    "    else:\n",
    "        print('Aries')\n",
    "elif mes==4:\n",
    "    if dia<=19:\n",
    "        print('Aries')\n",
    "    else:\n",
    "        print('Tauro')\n",
    "elif mes==5:\n",
    "    if dia<=20:\n",
    "        print('Tauro')\n",
    "    else:\n",
    "        print('Geminis')\n",
    "elif mes==6:\n",
    "    if dia<=20:\n",
    "        print('Geminis')\n",
    "    else:\n",
    "        print('Cancer')\n",
    "elif mes==7:\n",
    "    if dia<=22:\n",
    "        print('Cancer')\n",
    "    else:\n",
    "        print('Leo')\n",
    "elif mes==8:\n",
    "    if dia<=22:\n",
    "        print('Leo')\n",
    "    else:\n",
    "        print('Virgo')\n",
    "elif mes==9:\n",
    "    if dia<=22:\n",
    "        print('Virgo')\n",
    "    else:\n",
    "        print('Libra')\n",
    "elif mes==10:\n",
    "    if dia<=22:\n",
    "        print('Libra')\n",
    "    else:\n",
    "        print('Escorpio')\n",
    "elif mes==11:\n",
    "    if dia<=21:\n",
    "        print('Escorpio')\n",
    "    else:\n",
    "        print('Sagitario')\n",
    "else:\n",
    "    if dia<=21:\n",
    "        print('Sagitario')\n",
    "    else:\n",
    "        print('Capricornio')\n",
    "    "
   ]
  },
  {
   "cell_type": "markdown",
   "metadata": {},
   "source": [
    "### Bucles __FOR/WHILE__"
   ]
  },
  {
   "cell_type": "markdown",
   "metadata": {},
   "source": [
    "~~~\n",
    "for [variable] in [lista/conjunto]:\n",
    "    [acciones]\n",
    "~~~"
   ]
  },
  {
   "cell_type": "code",
   "execution_count": 94,
   "metadata": {},
   "outputs": [
    {
     "name": "stdout",
     "output_type": "stream",
     "text": [
      "1\n",
      "3\n",
      "5\n",
      "7\n",
      "9\n"
     ]
    }
   ],
   "source": [
    "for numero in range(1,11,2):\n",
    "    print(numero)"
   ]
  },
  {
   "cell_type": "markdown",
   "metadata": {},
   "source": [
    "**Saltarse** algún elemento **continue**"
   ]
  },
  {
   "cell_type": "code",
   "execution_count": 95,
   "metadata": {},
   "outputs": [
    {
     "name": "stdout",
     "output_type": "stream",
     "text": [
      "9\n",
      "7\n",
      "5\n",
      "3\n",
      "1\n"
     ]
    }
   ],
   "source": [
    "for numero in range(10,0,-1):\n",
    "    if numero%2==0:\n",
    "        continue\n",
    "    print(numero)"
   ]
  },
  {
   "cell_type": "markdown",
   "metadata": {},
   "source": [
    "**Terminar antes** del último elemento **break**"
   ]
  },
  {
   "cell_type": "code",
   "execution_count": 96,
   "metadata": {},
   "outputs": [
    {
     "name": "stdout",
     "output_type": "stream",
     "text": [
      "Enero\n",
      "Febrero\n",
      "Marzo\n",
      "Abril\n",
      "Mayo\n",
      "Junio\n"
     ]
    }
   ],
   "source": [
    "for mes in ['Enero','Febrero','Marzo','Abril','Mayo','Junio','Julio','Agosto','Septiembre','Octubre','Noviembre','Diciembre']:\n",
    "    if mes == 'Julio':\n",
    "      break  \n",
    "    print(mes)"
   ]
  },
  {
   "cell_type": "markdown",
   "metadata": {},
   "source": [
    "Costrucción compacta de listas"
   ]
  },
  {
   "cell_type": "code",
   "execution_count": 99,
   "metadata": {},
   "outputs": [
    {
     "name": "stdout",
     "output_type": "stream",
     "text": [
      "[2, 4, 6, 8, 10]\n"
     ]
    }
   ],
   "source": [
    "numeros=[1,2,3,4,5,6,7,8,9,10]\n",
    "listaPares=[num for num in numeros if num%2==0 ]\n",
    "print(listaPares)\n"
   ]
  },
  {
   "cell_type": "markdown",
   "metadata": {},
   "source": [
    "¿Cuales son los meses que sumando la longitud de su nombre al número de mes , comenzando desde 1, obtenemos un valor par?"
   ]
  },
  {
   "cell_type": "code",
   "execution_count": 101,
   "metadata": {},
   "outputs": [
    {
     "name": "stdout",
     "output_type": "stream",
     "text": [
      "[(5, 1), (7, 2), (5, 3), (5, 4), (4, 5), (5, 6), (5, 7), (6, 8), (10, 9), (7, 10), (9, 11), (9, 12)]\n",
      "['Enero', 'Marzo', 'Julio', 'Agosto', 'Noviembre']\n"
     ]
    }
   ],
   "source": [
    "meses = ['Enero','Febrero','Marzo','Abril','Mayo','Junio','Julio','Agosto','Septiembre','Octubre','Noviembre','Diciembre']\n",
    "numero = list(range(1,13))\n",
    "longitud = [len(mes) for mes in meses]\n",
    "meses_y_numero = list(zip(longitud,numero))\n",
    "print(meses_y_numero)\n",
    "solucion = [meses[mes-1] for (lg,mes) in meses_y_numero if (lg+mes)%2==0]\n",
    "print(solucion)\n"
   ]
  },
  {
   "cell_type": "markdown",
   "metadata": {},
   "source": [
    "Lista todas las combinaciones de 3 colores distintos entre ['rojo','verde','azul']"
   ]
  },
  {
   "cell_type": "code",
   "execution_count": 103,
   "metadata": {},
   "outputs": [
    {
     "data": {
      "text/plain": [
       "[('rojo', 'verde', 'azul'),\n",
       " ('rojo', 'azul', 'verde'),\n",
       " ('verde', 'rojo', 'azul'),\n",
       " ('verde', 'azul', 'rojo'),\n",
       " ('azul', 'rojo', 'verde'),\n",
       " ('azul', 'verde', 'rojo')]"
      ]
     },
     "execution_count": 103,
     "metadata": {},
     "output_type": "execute_result"
    }
   ],
   "source": [
    "colores = ['rojo','verde','azul']\n",
    "[(color1,color2,color3) for color1 in colores for color2 in colores for color3 in colores if color1!=color2 and color2!=color3 and color1!=color3]"
   ]
  },
  {
   "cell_type": "markdown",
   "metadata": {},
   "source": [
    "~~~\n",
    "while [condición]:\n",
    "    [acción]\n",
    "~~~"
   ]
  },
  {
   "cell_type": "markdown",
   "metadata": {},
   "source": [
    "Calcular la sucesión de Fibonacci:\n",
    "\n",
    "- $s_0 = 0$\n",
    "- $s_1 = 1$\n",
    "- $s_n=s_{n-1}+s_{n-2}$"
   ]
  },
  {
   "cell_type": "code",
   "execution_count": 107,
   "metadata": {},
   "outputs": [
    {
     "name": "stdout",
     "output_type": "stream",
     "text": [
      "Ingrese el número de elementos de la serie: 34\n",
      "[0, 1, 1, 2, 3, 5, 8, 13, 21, 34, 55, 89, 144, 233, 377, 610, 987, 1597, 2584, 4181, 6765, 10946, 17711, 28657, 46368, 75025, 121393, 196418, 317811, 514229, 832040, 1346269, 2178309, 3524578]\n"
     ]
    }
   ],
   "source": [
    "# Calcula la función de fibonacci\n",
    "n_0=0\n",
    "n_1=1\n",
    "n=int(input('Ingrese el número de elementos de la serie: '))\n",
    "serie=[n_0,n_1]\n",
    "while len(serie)<n:\n",
    "    n_2=n_0+n_1\n",
    "    n_0=n_1\n",
    "    n_1=n_2\n",
    "    serie.append(n_2)\n",
    "print(serie)\n"
   ]
  },
  {
   "cell_type": "markdown",
   "metadata": {},
   "source": [
    "## Funciones __DEF__"
   ]
  },
  {
   "cell_type": "markdown",
   "metadata": {},
   "source": [
    "~~~\n",
    "def [nombre] ([param1]:[tipo], ... , [paramN]:[tipo]]) ->[tipo]:\n",
    "    [acciones]\n",
    "    return [valor]\n",
    "~~~"
   ]
  },
  {
   "cell_type": "code",
   "execution_count": 110,
   "metadata": {},
   "outputs": [],
   "source": [
    "# Calculo del factorial de un número\n",
    "def factorial(num:int):\n",
    "    valor = 1\n",
    "    for temp in range(1,num+1):\n",
    "        valor = valor*temp\n",
    "    return valor"
   ]
  },
  {
   "cell_type": "code",
   "execution_count": 112,
   "metadata": {},
   "outputs": [],
   "source": [
    "def fibonacci(n:int)-> list:\n",
    "    n_0=0\n",
    "    n_1=1\n",
    "    serie=[n_0,n_1]\n",
    "    while len(serie)<n:\n",
    "        n_2=n_0+n_1\n",
    "        n_0=n_1\n",
    "        n_1=n_2\n",
    "        serie.append(n_2)\n",
    "    return serie"
   ]
  },
  {
   "cell_type": "code",
   "execution_count": 113,
   "metadata": {},
   "outputs": [
    {
     "data": {
      "text/plain": [
       "[0, 1, 1, 2, 3]"
      ]
     },
     "execution_count": 113,
     "metadata": {},
     "output_type": "execute_result"
    }
   ],
   "source": [
    "fibonacci(5)"
   ]
  },
  {
   "cell_type": "markdown",
   "metadata": {},
   "source": [
    "[Criba de Eratostenes](https://es.wikipedia.org/wiki/Criba_de_Erat%C3%B3stenes)"
   ]
  },
  {
   "cell_type": "code",
   "execution_count": 118,
   "metadata": {},
   "outputs": [],
   "source": [
    "# Criba de eratostenes\n",
    "# Paraḿetros por defecto\n",
    "def criba_eratostenes(n:int=20)-> list:\n",
    "    lista=[True]*n\n",
    "    lista[0]=False\n",
    "    lista[1]=False\n",
    "    for i in range(2,n):\n",
    "        if lista[i]:\n",
    "            for j in range(i*i,n,i):\n",
    "                lista[j]=False\n",
    "    return [i for i in range(n) if lista[i]]"
   ]
  },
  {
   "cell_type": "code",
   "execution_count": 122,
   "metadata": {},
   "outputs": [
    {
     "name": "stdout",
     "output_type": "stream",
     "text": [
      "[2, 3, 5, 7, 11, 13, 17, 19]\n",
      "[2, 3, 5, 7, 11, 13, 17, 19, 23, 29, 31, 37, 41, 43, 47]\n"
     ]
    }
   ],
   "source": [
    "print(criba_eratostenes())\n",
    "print(criba_eratostenes(50))"
   ]
  },
  {
   "cell_type": "code",
   "execution_count": 123,
   "metadata": {},
   "outputs": [],
   "source": [
    "# Parámetros opcionales y múltiples\n",
    "def interes(capital:float,interes:float = 0.05,periodo:int = 1)-> float:\n",
    "    return capital*(1+interes)**periodo"
   ]
  },
  {
   "cell_type": "code",
   "execution_count": 124,
   "metadata": {},
   "outputs": [
    {
     "name": "stdout",
     "output_type": "stream",
     "text": [
      "248.83199999999994\n"
     ]
    }
   ],
   "source": [
    "# Invocación mediante el uso del nombre de los parámetros\n",
    "print(interes(100,periodo = 5,interes = 0.2))"
   ]
  },
  {
   "cell_type": "markdown",
   "metadata": {},
   "source": [
    "## Módulos __IMPORT__"
   ]
  },
  {
   "cell_type": "markdown",
   "metadata": {},
   "source": [
    "~~~\n",
    "from [libreria] import [elementos]\n",
    "\n",
    "import [libreria] as [nuevonombre]\n",
    "~~~"
   ]
  },
  {
   "cell_type": "code",
   "execution_count": 125,
   "metadata": {},
   "outputs": [
    {
     "name": "stdout",
     "output_type": "stream",
     "text": [
      "78.53981633974483\n"
     ]
    }
   ],
   "source": [
    "# Inclusión de un módulo sus elementos se invoca con el nombre del módulo\n",
    "\n",
    "def area_circulo(radio:float)-> float:\n",
    "    return math.pi*radio**2\n",
    "\n",
    "print(area_circulo(5))"
   ]
  },
  {
   "cell_type": "code",
   "execution_count": 127,
   "metadata": {},
   "outputs": [
    {
     "name": "stdout",
     "output_type": "stream",
     "text": [
      "78.53981633974483\n"
     ]
    }
   ],
   "source": [
    "# Inclusión de un módulo renombrádolo\n",
    "import math as m\n",
    "\n",
    "def area_circulo(radio:float)-> float:\n",
    "    return m.pi*radio**2\n",
    "\n",
    "print(area_circulo(5))"
   ]
  },
  {
   "cell_type": "code",
   "execution_count": 128,
   "metadata": {},
   "outputs": [
    {
     "name": "stdout",
     "output_type": "stream",
     "text": [
      "78.53981633974483\n"
     ]
    }
   ],
   "source": [
    "# Icluir algún elemento de un módulo\n",
    "from math import pi\n",
    "\n",
    "def area_circulo(radio:float)-> float:\n",
    "    return pi*radio**2\n",
    "\n",
    "print(area_circulo(5))"
   ]
  },
  {
   "cell_type": "code",
   "execution_count": 129,
   "metadata": {},
   "outputs": [
    {
     "name": "stdout",
     "output_type": "stream",
     "text": [
      "78.53981633974483\n"
     ]
    }
   ],
   "source": [
    "# Incluir algún elemento de un módulo renombrándolo\n",
    "from math import pi as pi_math\n",
    "\n",
    "def area_circulo(radio:float)-> float:\n",
    "    return pi_math*radio**2\n",
    "\n",
    "print(area_circulo(5))"
   ]
  },
  {
   "cell_type": "code",
   "execution_count": 130,
   "metadata": {},
   "outputs": [
    {
     "name": "stdout",
     "output_type": "stream",
     "text": [
      "78.53981633974483\n"
     ]
    }
   ],
   "source": [
    "# Incluir todos los elementos de un módulo\n",
    "# Utilizarlos directamente sin referencia al modulo\n",
    "from math import *\n",
    "\n",
    "def area_circulo(radio:float)-> float:\n",
    "    return pi*radio**2\n",
    "\n",
    "print(area_circulo(5))"
   ]
  },
  {
   "cell_type": "markdown",
   "metadata": {},
   "source": [
    "## Clases __CLASS__"
   ]
  },
  {
   "cell_type": "markdown",
   "metadata": {},
   "source": [
    "~~~\n",
    "class [Nombre] ([hereda]):\n",
    "\n",
    "    def __init__ (self, ....):\n",
    "\n",
    "    def [metodo] (self, ...):\n",
    "~~~"
   ]
  },
  {
   "cell_type": "code",
   "execution_count": 134,
   "metadata": {},
   "outputs": [
    {
     "name": "stdout",
     "output_type": "stream",
     "text": [
      "Hola, me llamo Frodo y tengo 30 años\n",
      "Mi sueldo es de 1000\n",
      "Hola, me llamo Sam y tengo 25 años\n",
      "Mi sueldo es de 2000\n"
     ]
    }
   ],
   "source": [
    "class Persona:\n",
    "    def __init__(self,nombre:str,edad:int):\n",
    "        self.nombre=nombre\n",
    "        self.edad=edad\n",
    "    def saludar(self):\n",
    "        print(f'Hola, me llamo {self.nombre} y tengo {self.edad} años')\n",
    "\n",
    "\n",
    "class Empleado(Persona):\n",
    "    def __init__(self,nombre:str,edad:int,sueldo:float):\n",
    "        super().__init__(nombre,edad)\n",
    "        self.sueldo=sueldo\n",
    "    def saludar(self):\n",
    "        super().saludar()\n",
    "        print(f'Mi sueldo es de {self.sueldo}')\n",
    "\n",
    "yo=Empleado('Frodo',30,1000)\n",
    "yo.saludar()\n",
    "\n",
    "miAmigo=Empleado('Sam',25,2000)\n",
    "miAmigo.saludar()    "
   ]
  },
  {
   "cell_type": "code",
   "execution_count": null,
   "metadata": {},
   "outputs": [],
   "source": []
  }
 ],
 "metadata": {
  "kernelspec": {
   "display_name": "Python 3 (ipykernel)",
   "language": "python",
   "name": "python3"
  },
  "language_info": {
   "codemirror_mode": {
    "name": "ipython",
    "version": 3
   },
   "file_extension": ".py",
   "mimetype": "text/x-python",
   "name": "python",
   "nbconvert_exporter": "python",
   "pygments_lexer": "ipython3",
   "version": "3.9.7"
  },
  "vscode": {
   "interpreter": {
    "hash": "949777d72b0d2535278d3dc13498b2535136f6dfe0678499012e853ee9abcab1"
   }
  }
 },
 "nbformat": 4,
 "nbformat_minor": 2
}
